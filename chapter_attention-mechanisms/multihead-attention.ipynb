{
 "cells": [
  {
   "cell_type": "markdown",
   "id": "36341c1f",
   "metadata": {
    "origin_pos": 0
   },
   "source": [
    "# 多头注意力\n",
    ":label:`sec_multihead-attention`\n",
    "\n",
    "在实践中，当给定相同的查询、键和值的集合时，\n",
    "我们希望模型可以基于相同的注意力机制学习到不同的行为，\n",
    "然后将不同的行为作为知识组合起来，\n",
    "捕获序列内各种范围的依赖关系\n",
    "（例如，短距离依赖和长距离依赖关系）。\n",
    "因此，允许注意力机制组合使用查询、键和值的不同\n",
    "*子空间表示*（representation subspaces）可能是有益的。\n",
    "\n",
    "为此，与其只使用单独一个注意力汇聚，\n",
    "我们可以用独立学习得到的$h$组不同的\n",
    "*线性投影*（linear projections）来变换查询、键和值。\n",
    "然后，这$h$组变换后的查询、键和值将并行地送到注意力汇聚中。\n",
    "最后，将这$h$个注意力汇聚的输出拼接在一起，\n",
    "并且通过另一个可以学习的线性投影进行变换，\n",
    "以产生最终输出。\n",
    "这种设计被称为*多头注意力*（multihead attention）\n",
    " :cite:`Vaswani.Shazeer.Parmar.ea.2017`。\n",
    "对于$h$个注意力汇聚输出，每一个注意力汇聚都被称作一个*头*（head）。\n",
    " :numref:`fig_multi-head-attention`\n",
    "展示了使用全连接层来实现可学习的线性变换的多头注意力。\n",
    "\n",
    "![多头注意力：多个头连结然后线性变换](../img/multi-head-attention.svg)\n",
    ":label:`fig_multi-head-attention`\n",
    "\n",
    "## 模型\n",
    "\n",
    "在实现多头注意力之前，让我们用数学语言将这个模型形式化地描述出来。\n",
    "给定查询$\\mathbf{q} \\in \\mathbb{R}^{d_q}$、\n",
    "键$\\mathbf{k} \\in \\mathbb{R}^{d_k}$和\n",
    "值$\\mathbf{v} \\in \\mathbb{R}^{d_v}$，\n",
    "每个注意力头$\\mathbf{h}_i$（$i = 1, \\ldots, h$）的计算方法为：\n",
    "\n",
    "$$\\mathbf{h}_i = f(\\mathbf W_i^{(q)}\\mathbf q, \\mathbf W_i^{(k)}\\mathbf k,\\mathbf W_i^{(v)}\\mathbf v) \\in \\mathbb R^{p_v},$$\n",
    "\n",
    "其中，可学习的参数包括\n",
    "$\\mathbf W_i^{(q)}\\in\\mathbb R^{p_q\\times d_q}$、\n",
    "$\\mathbf W_i^{(k)}\\in\\mathbb R^{p_k\\times d_k}$和\n",
    "$\\mathbf W_i^{(v)}\\in\\mathbb R^{p_v\\times d_v}$，\n",
    "以及代表注意力汇聚的函数$f$。\n",
    "$f$可以是 :numref:`sec_attention-scoring-functions`中的\n",
    "加性注意力和缩放点积注意力。\n",
    "多头注意力的输出需要经过另一个线性转换，\n",
    "它对应着$h$个头连结后的结果，因此其可学习参数是\n",
    "$\\mathbf W_o\\in\\mathbb R^{p_o\\times h p_v}$：\n",
    "\n",
    "$$\\mathbf W_o \\begin{bmatrix}\\mathbf h_1\\\\\\vdots\\\\\\mathbf h_h\\end{bmatrix} \\in \\mathbb{R}^{p_o}.$$\n",
    "\n",
    "基于这种设计，每个头都可能会关注输入的不同部分，\n",
    "可以表示比简单加权平均值更复杂的函数。\n"
   ]
  },
  {
   "cell_type": "code",
   "execution_count": 1,
   "id": "dc55ba33",
   "metadata": {
    "execution": {
     "iopub.execute_input": "2023-08-18T07:01:32.189972Z",
     "iopub.status.busy": "2023-08-18T07:01:32.189240Z",
     "iopub.status.idle": "2023-08-18T07:01:34.516491Z",
     "shell.execute_reply": "2023-08-18T07:01:34.515475Z"
    },
    "origin_pos": 2,
    "tab": [
     "pytorch"
    ]
   },
   "outputs": [],
   "source": [
    "import math\n",
    "import torch\n",
    "from torch import nn\n",
    "from d2l import torch as d2l"
   ]
  },
  {
   "cell_type": "markdown",
   "id": "b51ca181",
   "metadata": {
    "origin_pos": 5
   },
   "source": [
    "## 实现\n",
    "\n",
    "在实现过程中通常[**选择缩放点积注意力作为每一个注意力头**]。\n",
    "为了避免计算代价和参数代价的大幅增长，\n",
    "我们设定$p_q = p_k = p_v = p_o / h$。\n",
    "值得注意的是，如果将查询、键和值的线性变换的输出数量设置为\n",
    "$p_q h = p_k h = p_v h = p_o$，\n",
    "则可以并行计算$h$个头。\n",
    "在下面的实现中，$p_o$是通过参数`num_hiddens`指定的。\n"
   ]
  },
  {
   "cell_type": "markdown",
   "id": "92030dec",
   "metadata": {},
   "source": [
    "### 插播一条简讯\n",
    "self.W_q 的第二个参数是 100（而不是 20）的原因：\n",
    "* 实现策略：采用\"大线性层+分割\"而非\"多个小线性层\"\n",
    "* 计算效率：一次矩阵乘法比多次小矩阵乘法更高效\n",
    "* 内存优化：减少了模型参数的管理复杂度\n",
    "* 数学等价：最终结果与理论公式完全一致\n",
    "\n",
    "这是深度学习框架中常见的优化技巧：用单个大操作替代多个小操作来提高并行计算效率。"
   ]
  },
  {
   "cell_type": "code",
   "execution_count": null,
   "id": "aed28382",
   "metadata": {},
   "outputs": [],
   "source": [
    "# 理论上可能的实现方式（但实际不这样做）\n",
    "# self.W_q_heads = nn.ModuleList([\n",
    "#     nn.Linear(query_size, 20) for _ in range(5)  # 每个头一个线性层，输出维度20\n",
    "# ])"
   ]
  },
  {
   "cell_type": "code",
   "execution_count": 9,
   "id": "1bb10990",
   "metadata": {
    "execution": {
     "iopub.execute_input": "2023-08-18T07:01:34.521491Z",
     "iopub.status.busy": "2023-08-18T07:01:34.521131Z",
     "iopub.status.idle": "2023-08-18T07:01:34.530492Z",
     "shell.execute_reply": "2023-08-18T07:01:34.529556Z"
    },
    "origin_pos": 7,
    "tab": [
     "pytorch"
    ]
   },
   "outputs": [],
   "source": [
    "# 并行计算\n",
    "class MultiHeadAttention(nn.Module):\n",
    "    \"\"\"多头注意力\"\"\"\n",
    "    def __init__(self, key_size, query_size, value_size, num_hiddens,\n",
    "                 num_heads, dropout, bias=False, **kwargs):\n",
    "        super(MultiHeadAttention, self).__init__(**kwargs)\n",
    "        self.num_heads = num_heads\n",
    "        self.attention = d2l.DotProductAttention(dropout)\n",
    "        self.W_q = nn.Linear(query_size, num_hiddens, bias=bias)\n",
    "        self.W_k = nn.Linear(key_size, num_hiddens, bias=bias)\n",
    "        self.W_v = nn.Linear(value_size, num_hiddens, bias=bias)\n",
    "        self.W_o = nn.Linear(num_hiddens, num_hiddens, bias=bias)\n",
    "\n",
    "\n",
    "    # queries本来的的 shape 是(batch_size, num_queries, num_hiddens)\n",
    "    # keys本来的的 shape 是(batch_size, num_kvpairs, num_hiddens)\n",
    "    # values本来的的 shape 是(batch_size, num_kvpairs, num_hiddens)\n",
    "    # valid_lens本来的的 shape 是(batch_size，)\n",
    "    def forward(self, queries, keys, values, valid_lens):\n",
    "        # 经过变换后\n",
    "        # queries 的形状: (batch_size*num_heads，num_queries，num_hiddens/num_heads)\n",
    "        # keys 的形状: (batch_size*num_heads，num_kvpairs，num_hiddens/num_heads)\n",
    "        # values 的形状: (batch_size*num_heads，num_kvpairs，num_hiddens/num_heads)\n",
    "        queries = transpose_qkv(self.W_q(queries), self.num_heads)\n",
    "        keys = transpose_qkv(self.W_k(keys), self.num_heads)\n",
    "        values = transpose_qkv(self.W_v(values), self.num_heads)\n",
    "\n",
    "        if valid_lens is not None:\n",
    "            # 在轴0，将第一项（标量或者矢量）复制num_heads次，\n",
    "            # 然后如此复制第二项，然后诸如此类。\n",
    "            valid_lens = torch.repeat_interleave(valid_lens, repeats=self.num_heads, dim=0)\n",
    "\n",
    "        # output的形状:(batch_size*num_heads，查询的个数，num_hiddens/num_heads)\n",
    "        output = self.attention(queries, keys, values, valid_lens)\n",
    "        print(f'并行多头：{output.shape}')\n",
    "\n",
    "        # output_concat的形状:(batch_size，查询的个数，num_hiddens)\n",
    "        output_concat = transpose_output(output, self.num_heads)\n",
    "        print(f'恢复单头：{output_concat.shape}')\n",
    "        return self.W_o(output_concat)"
   ]
  },
  {
   "cell_type": "code",
   "execution_count": 6,
   "id": "d76c3efb",
   "metadata": {},
   "outputs": [],
   "source": [
    "# 线性顺序计算\n",
    "class MultiHeadAttention(nn.Module):\n",
    "    \"\"\"多头注意力\"\"\"\n",
    "    def __init__(self, key_size, query_size, value_size, num_hiddens,\n",
    "                 num_heads, dropout, bias=False, **kwargs):\n",
    "        super(MultiHeadAttention, self).__init__(**kwargs)\n",
    "        self.num_heads = num_heads\n",
    "        self.head_dim = num_hiddens // num_heads  # 每个头的维度\n",
    "        self.attention = d2l.DotProductAttention(dropout)\n",
    "        \n",
    "        # 方法1：为每个头创建独立的线性层\n",
    "        self.W_q_heads = nn.ModuleList([\n",
    "            nn.Linear(query_size, self.head_dim, bias=bias) for _ in range(num_heads)\n",
    "        ])\n",
    "        self.W_k_heads = nn.ModuleList([\n",
    "            nn.Linear(key_size, self.head_dim, bias=bias) for _ in range(num_heads)\n",
    "        ])\n",
    "        self.W_v_heads = nn.ModuleList([\n",
    "            nn.Linear(value_size, self.head_dim, bias=bias) for _ in range(num_heads)\n",
    "        ])\n",
    "        \n",
    "        self.W_o = nn.Linear(num_hiddens, num_hiddens, bias=bias)\n",
    "\n",
    "\n",
    "    # queries本来的的 shape 是(batch_size, num_queries, query_size)\n",
    "    # keys本来的的 shape 是(batch_size, num_kvpairs, key_size)\n",
    "    # values本来的的 shape 是(batch_size, num_kvpairs, value_size)\n",
    "    # valid_lens本来的的 shape 是(batch_size，)\n",
    "    def forward(self, queries, keys, values, valid_lens):\n",
    "        batch_size = queries.shape[0]\n",
    "        num_queries = queries.shape[1]\n",
    "        num_kvpairs = keys.shape[1]\n",
    "        \n",
    "        # 存储每个头的输出\n",
    "        head_outputs = []\n",
    "        \n",
    "        for i in range(self.num_heads):\n",
    "            # 每个头独立进行线性变换\n",
    "            # queries_i 的形状: (batch_size, num_queries, head_dim)\n",
    "            queries_i = self.W_q_heads[i](queries)\n",
    "            # keys_i 的形状: (batch_size, num_kvpairs, head_dim)\n",
    "            keys_i = self.W_k_heads[i](keys)\n",
    "            # values_i 的形状: (batch_size, num_kvpairs, head_dim)\n",
    "            values_i = self.W_v_heads[i](values)\n",
    "            \n",
    "            # 计算当前头的注意力\n",
    "            # output_i 的形状: (batch_size, num_queries, head_dim)\n",
    "            output_i = self.attention(queries_i, keys_i, values_i, valid_lens)\n",
    "            head_outputs.append(output_i)\n",
    "        \n",
    "        # 拼接所有头的输出\n",
    "        # output_concat 的形状: (batch_size, num_queries, num_hiddens)\n",
    "        output_concat = torch.cat(head_outputs, dim=-1)\n",
    "        print(f\"每个头的输出shape: {head_outputs[0].shape}\")\n",
    "        print(f\"拼接后的shape: {output_concat.shape}\")\n",
    "        \n",
    "        return self.W_o(output_concat)"
   ]
  },
  {
   "cell_type": "markdown",
   "id": "9ab1c33b",
   "metadata": {
    "origin_pos": 10
   },
   "source": [
    "为了能够[**使多个头并行计算**]，\n",
    "上面的`MultiHeadAttention`类将使用下面定义的两个转置函数。\n",
    "具体来说，`transpose_output`函数反转了`transpose_qkv`函数的操作。\n"
   ]
  },
  {
   "cell_type": "code",
   "execution_count": 10,
   "id": "b2af5ed8",
   "metadata": {
    "execution": {
     "iopub.execute_input": "2023-08-18T07:01:34.534820Z",
     "iopub.status.busy": "2023-08-18T07:01:34.534308Z",
     "iopub.status.idle": "2023-08-18T07:01:34.540852Z",
     "shell.execute_reply": "2023-08-18T07:01:34.539927Z"
    },
    "origin_pos": 12,
    "tab": [
     "pytorch"
    ]
   },
   "outputs": [],
   "source": [
    "#@save\n",
    "def transpose_qkv(X, num_heads):\n",
    "    \"\"\"为了多注意力头的并行计算而变换形状\"\"\"\n",
    "    # 输入X的形状:(batch_size，查询或者“键－值”对的个数，num_hiddens)\n",
    "    # 输出X的形状:(batch_size，查询或者“键－值”对的个数，num_heads，num_hiddens/num_heads)\n",
    "    X = X.reshape(X.shape[0], X.shape[1], num_heads, -1)\n",
    "\n",
    "    # 输出X的形状:(batch_size，num_heads，查询或者“键－值”对的个数, num_hiddens/num_heads)\n",
    "    X = X.permute(0, 2, 1, 3)\n",
    "\n",
    "    # 最终输出的形状:(batch_size*num_heads,查询或者“键－值”对的个数, num_hiddens/num_heads)\n",
    "    return X.reshape(-1, X.shape[2], X.shape[3])\n",
    "\n",
    "\n",
    "#@save\n",
    "def transpose_output(X, num_heads):\n",
    "    \"\"\"逆转transpose_qkv函数的操作\"\"\"\n",
    "    X = X.reshape(-1, num_heads, X.shape[1], X.shape[2])\n",
    "    X = X.permute(0, 2, 1, 3)\n",
    "    return X.reshape(X.shape[0], X.shape[1], -1)"
   ]
  },
  {
   "cell_type": "markdown",
   "id": "0e31b376",
   "metadata": {
    "origin_pos": 15
   },
   "source": [
    "下面使用键和值相同的小例子来[**测试**]我们编写的`MultiHeadAttention`类。\n",
    "多头注意力输出的形状是（`batch_size`，`num_queries`，`num_hiddens`）。\n"
   ]
  },
  {
   "cell_type": "code",
   "execution_count": 11,
   "id": "d06baadf",
   "metadata": {
    "execution": {
     "iopub.execute_input": "2023-08-18T07:01:34.545405Z",
     "iopub.status.busy": "2023-08-18T07:01:34.544605Z",
     "iopub.status.idle": "2023-08-18T07:01:34.571251Z",
     "shell.execute_reply": "2023-08-18T07:01:34.570476Z"
    },
    "origin_pos": 17,
    "tab": [
     "pytorch"
    ]
   },
   "outputs": [
    {
     "data": {
      "text/plain": [
       "MultiHeadAttention(\n",
       "  (attention): DotProductAttention(\n",
       "    (dropout): Dropout(p=0.5, inplace=False)\n",
       "  )\n",
       "  (W_q): Linear(in_features=100, out_features=100, bias=False)\n",
       "  (W_k): Linear(in_features=100, out_features=100, bias=False)\n",
       "  (W_v): Linear(in_features=100, out_features=100, bias=False)\n",
       "  (W_o): Linear(in_features=100, out_features=100, bias=False)\n",
       ")"
      ]
     },
     "execution_count": 11,
     "metadata": {},
     "output_type": "execute_result"
    }
   ],
   "source": [
    "num_hiddens, num_heads = 100, 5\n",
    "attention = MultiHeadAttention(num_hiddens, num_hiddens, num_hiddens,\n",
    "                               num_hiddens, num_heads, 0.5)\n",
    "attention.eval()"
   ]
  },
  {
   "cell_type": "code",
   "execution_count": 12,
   "id": "8da65afc",
   "metadata": {
    "execution": {
     "iopub.execute_input": "2023-08-18T07:01:34.574642Z",
     "iopub.status.busy": "2023-08-18T07:01:34.574021Z",
     "iopub.status.idle": "2023-08-18T07:01:34.588848Z",
     "shell.execute_reply": "2023-08-18T07:01:34.587945Z"
    },
    "origin_pos": 20,
    "tab": [
     "pytorch"
    ]
   },
   "outputs": [
    {
     "name": "stdout",
     "output_type": "stream",
     "text": [
      "并行多头：torch.Size([10, 4, 20])\n",
      "恢复单头：torch.Size([2, 4, 100])\n"
     ]
    },
    {
     "data": {
      "text/plain": [
       "torch.Size([2, 4, 100])"
      ]
     },
     "execution_count": 12,
     "metadata": {},
     "output_type": "execute_result"
    }
   ],
   "source": [
    "batch_size = 2\n",
    "num_queries = 4\n",
    "num_kvpairs =  6\n",
    "valid_lens = torch.tensor([3, 2])\n",
    "X = torch.ones((batch_size, num_queries, num_hiddens))\n",
    "Y = torch.ones((batch_size, num_kvpairs, num_hiddens))\n",
    "attention(X, Y, Y, valid_lens).shape"
   ]
  },
  {
   "cell_type": "markdown",
   "id": "c228d916",
   "metadata": {
    "origin_pos": 22
   },
   "source": [
    "## 小结\n",
    "\n",
    "* 多头注意力融合了来自于多个注意力汇聚的不同知识，这些知识的不同来源于相同的查询、键和值的不同的子空间表示。\n",
    "* 基于适当的张量操作，可以实现多头注意力的并行计算。\n",
    "\n",
    "## 练习\n",
    "\n",
    "1. 分别可视化这个实验中的多个头的注意力权重。\n",
    "1. 假设有一个完成训练的基于多头注意力的模型，现在希望修剪最不重要的注意力头以提高预测速度。如何设计实验来衡量注意力头的重要性呢？\n"
   ]
  },
  {
   "cell_type": "markdown",
   "id": "bfae5c77",
   "metadata": {
    "origin_pos": 24,
    "tab": [
     "pytorch"
    ]
   },
   "source": [
    "[Discussions](https://discuss.d2l.ai/t/5758)\n"
   ]
  }
 ],
 "metadata": {
  "kernelspec": {
   "display_name": "py39",
   "language": "python",
   "name": "python3"
  },
  "language_info": {
   "codemirror_mode": {
    "name": "ipython",
    "version": 3
   },
   "file_extension": ".py",
   "mimetype": "text/x-python",
   "name": "python",
   "nbconvert_exporter": "python",
   "pygments_lexer": "ipython3",
   "version": "3.9.0"
  },
  "required_libs": []
 },
 "nbformat": 4,
 "nbformat_minor": 5
}
