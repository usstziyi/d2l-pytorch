{
 "cells": [
  {
   "cell_type": "markdown",
   "id": "52df7352",
   "metadata": {
    "origin_pos": 0
   },
   "source": [
    "# 循环神经网络的从零开始实现\n",
    ":label:`sec_rnn_scratch`\n",
    "\n",
    "本节将根据 :numref:`sec_rnn`中的描述，\n",
    "从头开始基于循环神经网络实现字符级语言模型。\n",
    "这样的模型将在H.G.Wells的时光机器数据集上训练。\n",
    "和前面 :numref:`sec_language_model`中介绍过的一样，\n",
    "我们先读取数据集。\n"
   ]
  },
  {
   "cell_type": "code",
   "execution_count": null,
   "id": "dafdcbcb",
   "metadata": {
    "execution": {
     "iopub.execute_input": "2023-08-18T07:18:01.555032Z",
     "iopub.status.busy": "2023-08-18T07:18:01.554199Z",
     "iopub.status.idle": "2023-08-18T07:18:04.803287Z",
     "shell.execute_reply": "2023-08-18T07:18:04.802073Z"
    },
    "origin_pos": 2,
    "tab": [
     "pytorch"
    ]
   },
   "outputs": [],
   "source": [
    "%matplotlib inline\n",
    "import math\n",
    "import torch\n",
    "from torch import nn\n",
    "from torch.nn import functional as F\n",
    "from d2l import torch as d2l"
   ]
  },
  {
   "cell_type": "code",
   "execution_count": null,
   "id": "be4f5d93",
   "metadata": {
    "execution": {
     "iopub.execute_input": "2023-08-18T07:18:04.809116Z",
     "iopub.status.busy": "2023-08-18T07:18:04.808214Z",
     "iopub.status.idle": "2023-08-18T07:18:05.026750Z",
     "shell.execute_reply": "2023-08-18T07:18:05.025592Z"
    },
    "origin_pos": 5,
    "tab": [
     "pytorch"
    ]
   },
   "outputs": [],
   "source": [
    "batch_size, num_steps = 2, 35\n",
    "train_iter, vocab = d2l.load_data_time_machine(batch_size, num_steps)"
   ]
  },
  {
   "cell_type": "code",
   "execution_count": null,
   "id": "a2a3da4a",
   "metadata": {},
   "outputs": [],
   "source": [
    "print(len(vocab))"
   ]
  },
  {
   "cell_type": "markdown",
   "id": "80db8a1f",
   "metadata": {
    "origin_pos": 7
   },
   "source": [
    "## [**独热编码**]\n",
    "\n",
    "回想一下，在`train_iter`中，每个词元都表示为一个数字索引，\n",
    "将这些索引直接输入神经网络可能会使学习变得困难。\n",
    "我们通常将每个词元表示为更具表现力的特征向量。\n",
    "最简单的表示称为*独热编码*（one-hot encoding），\n",
    "它在 :numref:`subsec_classification-problem`中介绍过。\n",
    "\n",
    "简言之，将每个索引映射为相互不同的单位向量：\n",
    "假设词表中不同词元的数目为$N$（即`len(vocab)`），\n",
    "词元索引的范围为$0$到$N-1$。\n",
    "如果词元的索引是整数$i$，\n",
    "那么我们将创建一个长度为$N$的全$0$向量，\n",
    "并将第$i$处的元素设置为$1$。\n",
    "此向量是原始词元的一个独热向量。\n",
    "索引为$0$和$2$的独热向量如下所示：\n"
   ]
  },
  {
   "cell_type": "code",
   "execution_count": null,
   "id": "c5725a77",
   "metadata": {
    "execution": {
     "iopub.execute_input": "2023-08-18T07:18:05.032457Z",
     "iopub.status.busy": "2023-08-18T07:18:05.031682Z",
     "iopub.status.idle": "2023-08-18T07:18:05.042971Z",
     "shell.execute_reply": "2023-08-18T07:18:05.041878Z"
    },
    "origin_pos": 9,
    "tab": [
     "pytorch"
    ]
   },
   "outputs": [],
   "source": [
    "t = torch.tensor([0,2])\n",
    "print(t)\n",
    "F.one_hot(t, len(vocab))"
   ]
  },
  {
   "cell_type": "markdown",
   "id": "b5d08204",
   "metadata": {
    "origin_pos": 12
   },
   "source": [
    "我们每次采样的(**小批量数据形状是二维张量：\n",
    "（批量大小，时间步数）。**)\n",
    "`one_hot`函数将这样一个小批量数据转换成三维张量，\n",
    "张量的最后一个维度等于词表大小（`len(vocab)`）。\n",
    "我们经常转换输入的维度，以便获得形状为\n",
    "（时间步数，批量大小，词表大小）的输出。\n",
    "这将使我们能够更方便地通过最外层的维度，\n",
    "一步一步地更新小批量数据的隐状态。\n"
   ]
  },
  {
   "cell_type": "code",
   "execution_count": null,
   "id": "60a49de8",
   "metadata": {
    "execution": {
     "iopub.execute_input": "2023-08-18T07:18:05.047886Z",
     "iopub.status.busy": "2023-08-18T07:18:05.047143Z",
     "iopub.status.idle": "2023-08-18T07:18:05.054936Z",
     "shell.execute_reply": "2023-08-18T07:18:05.053897Z"
    },
    "origin_pos": 14,
    "tab": [
     "pytorch"
    ]
   },
   "outputs": [],
   "source": [
    "X = torch.arange(10).reshape((2, 5))\n",
    "print(X)\n",
    "F.one_hot(X.T, 28).shape\n",
    "print(F.one_hot(X.T, 28))"
   ]
  },
  {
   "cell_type": "markdown",
   "id": "32469879",
   "metadata": {
    "origin_pos": 17
   },
   "source": [
    "## 初始化模型参数\n",
    "\n",
    "接下来，我们[**初始化循环神经网络模型的模型参数**]。\n",
    "隐藏单元数`num_hiddens`是一个可调的超参数。\n",
    "当训练语言模型时，输入和输出来自相同的词表。\n",
    "因此，它们具有相同的维度，即词表的大小。\n"
   ]
  },
  {
   "cell_type": "code",
   "execution_count": null,
   "id": "a8ad7abe",
   "metadata": {
    "execution": {
     "iopub.execute_input": "2023-08-18T07:18:05.059740Z",
     "iopub.status.busy": "2023-08-18T07:18:05.059023Z",
     "iopub.status.idle": "2023-08-18T07:18:05.067363Z",
     "shell.execute_reply": "2023-08-18T07:18:05.066318Z"
    },
    "origin_pos": 19,
    "tab": [
     "pytorch"
    ]
   },
   "outputs": [],
   "source": [
    "def get_params(vocab_size, num_hiddens, device):\n",
    "    \"\"\"\n",
    "    初始化循环神经网络的参数。\n",
    "\n",
    "    参数:\n",
    "        vocab_size: 词表大小，同时作为输入和输出的特征数\n",
    "        num_hiddens: 隐藏单元数\n",
    "        device: 参数所在的设备（如 'cpu' 或 'cuda'）\n",
    "\n",
    "    返回:\n",
    "        包含所有参数的列表，每个参数都设置了 requires_grad=True\n",
    "    \"\"\"\n",
    "    num_inputs = num_outputs = vocab_size  # 输入和输出的特征数都等于词表大小\n",
    "\n",
    "    def normal(shape):\n",
    "        # 生成服从正态分布的张量，均值为0，标准差为0.01\n",
    "        return torch.randn(size=shape, device=device) * 0.01\n",
    "\n",
    "    # 隐藏层参数\n",
    "    W_xh = normal((num_inputs, num_hiddens))  # 输入到隐藏层的权重\n",
    "    W_hh = normal((num_hiddens, num_hiddens)) # 隐藏层到隐藏层的权重\n",
    "    b_h = torch.zeros(num_hiddens, device=device)  # 隐藏层偏置\n",
    "\n",
    "    # 输出层参数\n",
    "    W_hq = normal((num_hiddens, num_outputs))  # 隐藏层到输出层的权重\n",
    "    b_q = torch.zeros(num_outputs, device=device)  # 输出层偏置\n",
    "\n",
    "    # 将所有参数放入列表\n",
    "    params = [W_xh, W_hh, b_h, W_hq, b_q]\n",
    "    for param in params:\n",
    "        # 设置参数需要计算梯度\n",
    "        param.requires_grad_(True)\n",
    "    return params"
   ]
  },
  {
   "cell_type": "markdown",
   "id": "037e51a5",
   "metadata": {
    "origin_pos": 22
   },
   "source": [
    "## 循环神经网络模型\n",
    "\n",
    "为了定义循环神经网络模型，\n",
    "我们首先需要[**一个`init_rnn_state`函数在初始化时返回隐状态**]。\n",
    "这个函数的返回是一个张量，张量全用0填充，\n",
    "形状为（批量大小，隐藏单元数）。\n",
    "在后面的章节中我们将会遇到隐状态包含多个变量的情况，\n",
    "而使用元组可以更容易地处理些。\n"
   ]
  },
  {
   "cell_type": "code",
   "execution_count": null,
   "id": "e310bbed",
   "metadata": {
    "execution": {
     "iopub.execute_input": "2023-08-18T07:18:05.072206Z",
     "iopub.status.busy": "2023-08-18T07:18:05.071312Z",
     "iopub.status.idle": "2023-08-18T07:18:05.076740Z",
     "shell.execute_reply": "2023-08-18T07:18:05.075653Z"
    },
    "origin_pos": 24,
    "tab": [
     "pytorch"
    ]
   },
   "outputs": [],
   "source": [
    "# 该函数用于初始化循环神经网络（RNN）的隐藏状态（hidden state）。\n",
    "# 输入参数：\n",
    "#   batch_size: 批量大小，即一次输入多少个样本\n",
    "#   num_hiddens: 隐藏单元的数量\n",
    "#   device: 张量所在的设备（如 'cpu' 或 'cuda'）\n",
    "# 返回值：\n",
    "#   返回一个元组，里面是一个形状为 (batch_size, num_hiddens) 的全零张量，表示初始的隐藏状态\n",
    "def init_rnn_state(batch_size, num_hiddens, device):\n",
    "    return (torch.zeros((batch_size, num_hiddens), device=device), )"
   ]
  },
  {
   "cell_type": "markdown",
   "id": "d5c7e392",
   "metadata": {
    "origin_pos": 27
   },
   "source": [
    "[**下面的`rnn`函数定义了如何在一个时间步内计算隐状态和输出。**]\n",
    "循环神经网络模型通过`inputs`最外层的维度实现循环，\n",
    "以便逐时间步更新小批量数据的隐状态`H`。\n",
    "此外，这里使用$\\tanh$函数作为激活函数。\n",
    "如 :numref:`sec_mlp`所述，\n",
    "当元素在实数上满足均匀分布时，$\\tanh$函数的平均值为0。\n"
   ]
  },
  {
   "cell_type": "code",
   "execution_count": null,
   "id": "84a46eb3",
   "metadata": {
    "execution": {
     "iopub.execute_input": "2023-08-18T07:18:05.081883Z",
     "iopub.status.busy": "2023-08-18T07:18:05.080930Z",
     "iopub.status.idle": "2023-08-18T07:18:05.088343Z",
     "shell.execute_reply": "2023-08-18T07:18:05.087321Z"
    },
    "origin_pos": 29,
    "tab": [
     "pytorch"
    ]
   },
   "outputs": [],
   "source": [
    "# 这段代码实现了一个简单的循环神经网络（RNN）的前向计算过程。\n",
    "def rnn(inputs, state, params):\n",
    "    # inputs: 输入序列，形状为 (时间步数, 批量大小, 词表大小)\n",
    "    # state: 隐藏状态，通常是一个元组，这里只包含一个张量 H\n",
    "    # params: 网络参数，包括输入到隐藏层、隐藏到隐藏层、隐藏层偏置、隐藏到输出层、输出层偏置\n",
    "\n",
    "    W_xh, W_hh, b_h, W_hq, b_q = params  # 解包参数\n",
    "    H, = state  # 当前的隐藏状态\n",
    "\n",
    "    outputs = []  # 用于保存每个时间步的输出\n",
    "\n",
    "    # 手动实现 RNN 内部计算\n",
    "    # inputs(T,B,V)\n",
    "    for X in inputs:\n",
    "        # 计算当前时间步的隐藏状态\n",
    "        # X(B,V)\n",
    "        # H(B,H)\n",
    "        # 隐藏层\n",
    "        H = torch.tanh(torch.mm(X, W_xh) + torch.mm(H, W_hh) + b_h)\n",
    "\n",
    "        # 计算当前时间步的输出\n",
    "        # Y(B,V)\n",
    "        # 输出层\n",
    "        Y = torch.mm(H, W_hq) + b_q\n",
    "        outputs.append(Y)  # 保存输出\n",
    "\n",
    "    # 输出形状为 (T * B, V)\n",
    "    O = torch.cat(outputs, dim=0)\n",
    "    # 同时返回最后一个时间步的隐藏状态 H，将其封装为元组以保持与输入 state 相同的格式。\n",
    "    return O, (H,)"
   ]
  },
  {
   "cell_type": "markdown",
   "id": "b99d272d",
   "metadata": {
    "origin_pos": 32
   },
   "source": [
    "定义了所有需要的函数之后，接下来我们[**创建一个类来包装这些函数**]，\n",
    "并存储从零开始实现的循环神经网络模型的参数。\n"
   ]
  },
  {
   "cell_type": "code",
   "execution_count": null,
   "id": "a45ae30c",
   "metadata": {
    "execution": {
     "iopub.execute_input": "2023-08-18T07:18:05.093357Z",
     "iopub.status.busy": "2023-08-18T07:18:05.092334Z",
     "iopub.status.idle": "2023-08-18T07:18:05.101515Z",
     "shell.execute_reply": "2023-08-18T07:18:05.100380Z"
    },
    "origin_pos": 34,
    "tab": [
     "pytorch"
    ]
   },
   "outputs": [],
   "source": [
    "class RNNModelScratch: #@save\n",
    "    \"\"\"从零开始实现的循环神经网络模型\"\"\"\n",
    "    def __init__(self, vocab_size, num_hiddens, device, get_params, init_state, forward_fn):\n",
    "        # 保存词表大小和隐藏单元数\n",
    "        self.vocab_size, self.num_hiddens = vocab_size, num_hiddens\n",
    "        # 获取模型参数\n",
    "        self.params = get_params(vocab_size, num_hiddens, device)\n",
    "        # 保存初始化隐状态和前向传播函数\n",
    "        self.init_state, self.forward_fn = init_state, forward_fn\n",
    "\n",
    "    def __call__(self, X, state):\n",
    "        # 将输入X转为one-hot编码，并转为float32类型\n",
    "        # X: (batch_size, num_steps) 独热编码 (T, B, V)\n",
    "        X = F.one_hot(X.T, self.vocab_size).type(torch.float32)\n",
    "        # 前向传播，返回输出和新的隐状态\n",
    "        # 输出形状: (T * B, V)\n",
    "        # 新的隐状态形状取决于具体实现，通常为 (B, H)\n",
    "        return self.forward_fn(X, state, self.params)\n",
    "\n",
    "    def begin_state(self, batch_size, device):\n",
    "        # 初始化隐状态\n",
    "        return self.init_state(batch_size, self.num_hiddens, device)"
   ]
  },
  {
   "cell_type": "markdown",
   "id": "34b19f1b",
   "metadata": {
    "origin_pos": 37
   },
   "source": [
    "让我们[**检查输出是否具有正确的形状**]。\n",
    "例如，隐状态的维数是否保持不变。\n"
   ]
  },
  {
   "cell_type": "code",
   "execution_count": null,
   "id": "83809e58",
   "metadata": {
    "execution": {
     "iopub.execute_input": "2023-08-18T07:18:05.106127Z",
     "iopub.status.busy": "2023-08-18T07:18:05.105766Z",
     "iopub.status.idle": "2023-08-18T07:18:07.615027Z",
     "shell.execute_reply": "2023-08-18T07:18:07.613950Z"
    },
    "origin_pos": 39,
    "tab": [
     "pytorch"
    ]
   },
   "outputs": [],
   "source": [
    "# 定义RNN模型的隐藏层大小\n",
    "num_hiddens = 512\n",
    "\n",
    "# 创建RNN模型实例，使用从零开始实现的RNNModelScratch类\n",
    "# 参数说明：\n",
    "#   len(vocab) - 词汇表大小，即输入和输出的维度\n",
    "#   num_hiddens - 隐藏层单元数量\n",
    "#   d2l.try_gpu() - 尝试使用GPU设备进行计算\n",
    "#   get_params - 获取模型参数的函数\n",
    "#   init_rnn_state - 初始化隐藏状态的函数\n",
    "#   rnn - RNN前向传播函数\n",
    "net = RNNModelScratch(len(vocab), num_hiddens, d2l.try_gpu(), get_params, init_rnn_state, rnn)\n",
    "\n",
    "# 初始化RNN的隐藏状态\n",
    "# 根据输入批量大小和设备信息创建初始隐藏状态\n",
    "state = net.begin_state(X.shape[0], d2l.try_gpu())\n",
    "\n",
    "# 执行前向传播计算\n",
    "# 将输入数据移到GPU上，并与初始隐藏状态一起传入模型进行计算\n",
    "# 返回输出结果Y和更新后的隐藏状态new_state\n",
    "Y, new_state = net(X.to(d2l.try_gpu()), state)\n",
    "\n",
    "\n",
    "# 检查输出结果和隐藏状态的形状信息\n",
    "print(Y.shape) # Y的shape是(num_steps * batch_size, vocab_size)\n",
    "print(len(new_state)) \n",
    "print(new_state[0].shape) # new_state元素的 shape 是(batch_size,num_hiddens)"
   ]
  },
  {
   "cell_type": "markdown",
   "id": "3baefc97",
   "metadata": {
    "origin_pos": 42
   },
   "source": [
    "我们可以看到输出形状是（时间步数$\\times$批量大小，词表大小），\n",
    "而隐状态形状保持不变，即（批量大小，隐藏单元数）。\n",
    "\n",
    "## 预测\n",
    "\n",
    "让我们[**首先定义预测函数来生成`prefix`之后的新字符**]，\n",
    "其中的`prefix`是一个用户提供的包含多个字符的字符串。\n",
    "在循环遍历`prefix`中的开始字符时，\n",
    "我们不断地将隐状态传递到下一个时间步，但是不生成任何输出。\n",
    "这被称为*预热*（warm-up）期，\n",
    "因为在此期间模型会自我更新（例如，更新隐状态），\n",
    "但不会进行预测。\n",
    "预热期结束后，隐状态的值通常比刚开始的初始值更适合预测，\n",
    "从而预测字符并输出它们。\n"
   ]
  },
  {
   "cell_type": "code",
   "execution_count": null,
   "id": "a98020e1",
   "metadata": {
    "execution": {
     "iopub.execute_input": "2023-08-18T07:18:07.619431Z",
     "iopub.status.busy": "2023-08-18T07:18:07.619151Z",
     "iopub.status.idle": "2023-08-18T07:18:07.626388Z",
     "shell.execute_reply": "2023-08-18T07:18:07.625321Z"
    },
    "origin_pos": 44,
    "tab": [
     "pytorch"
    ]
   },
   "outputs": [],
   "source": [
    "# 预热->训练->预测\n",
    "# prefix: 预热期的前缀字符串\n",
    "# num_preds: 预热之后，预测的字符数\n",
    "# net: 训练好的RNN模型\n",
    "# vocab: 词汇表对象，用于将字符索引转换为字符\n",
    "# device: 计算设备，如CPU或GPU\n",
    "def predict_ch8(prefix, num_preds, net, vocab, device):  #@save\n",
    "    # 初始化RNN的隐状态，batch_size=1表示一次生成一个序列\n",
    "    state = net.begin_state(batch_size=1, device=device)\n",
    "    # outputs用于保存生成的字符的索引，首先放入prefix的第一个字符的索引\n",
    "    outputs = [vocab[prefix[0]]]\n",
    "    # 定义一个函数，每次根据outputs的最后一个字符索引生成输入张量，shape(batch_size,num_steps)=(1,1)\n",
    "    get_input = lambda: torch.tensor([outputs[-1]], device=device).reshape((1, 1))\n",
    "    # 将输入张量reshape成(1, 1)是因为在PyTorch中，RNN模型通常期望输入具有特定的维度格式。\n",
    "    # 这里第一个维度1表示batch_size为1（一次处理一个样本），第二个维度1表示序列长度为1（一次输入一个时间步的数据）。\n",
    "    \n",
    "    # 预热期：依次将prefix的后续字符输入到模型中，更新隐状态，但不预测新字符\n",
    "    for y in prefix[1:]:  # 预热期\n",
    "        _, state = net(get_input(), state)\n",
    "        outputs.append(vocab[y])\n",
    "    # 预测阶段：根据当前隐状态和上一个输出，预测接下来的num_preds个字符\n",
    "    for _ in range(num_preds):  # 预测num_preds步\n",
    "        y, state = net(get_input(), state)\n",
    "        # y 的 shape 是 (t*b,vocab_size)=(1*1, vocab_size)，表示当前时间步的输出分布\n",
    "        # print(\"当前预测的字符索引（在各可能类别中概率最大的索引）:\", y.argmax(dim=1).reshape(1))\n",
    "        # 取预测结果中概率最大的字符索引作为下一个输出\n",
    "        outputs.append(int(y.argmax(dim=1).reshape(1)))\n",
    "    # 将所有字符索引转换为字符并拼接成字符串返回\n",
    "    return ''.join([vocab.idx_to_token[i] for i in outputs])"
   ]
  },
  {
   "cell_type": "markdown",
   "id": "375db47c",
   "metadata": {
    "origin_pos": 47
   },
   "source": [
    "现在我们可以测试`predict_ch8`函数。\n",
    "我们将前缀指定为`time traveller `，\n",
    "并基于这个前缀生成10个后续字符。\n",
    "鉴于我们还没有训练网络，它会生成荒谬的预测结果。\n"
   ]
  },
  {
   "cell_type": "code",
   "execution_count": null,
   "id": "8ea33551",
   "metadata": {
    "execution": {
     "iopub.execute_input": "2023-08-18T07:18:07.630956Z",
     "iopub.status.busy": "2023-08-18T07:18:07.630335Z",
     "iopub.status.idle": "2023-08-18T07:18:07.646754Z",
     "shell.execute_reply": "2023-08-18T07:18:07.645688Z"
    },
    "origin_pos": 48,
    "tab": [
     "pytorch"
    ]
   },
   "outputs": [],
   "source": [
    "predict_ch8('time traveller ', 20, net, vocab, d2l.try_gpu())"
   ]
  },
  {
   "cell_type": "markdown",
   "id": "596cfaf3",
   "metadata": {
    "origin_pos": 50
   },
   "source": [
    "## [**梯度裁剪**]\n",
    "\n",
    "对于长度为$T$的序列，我们在迭代中计算这$T$个时间步上的梯度，\n",
    "将会在反向传播过程中产生长度为$\\mathcal{O}(T)$的矩阵乘法链。\n",
    "如 :numref:`sec_numerical_stability`所述，\n",
    "当$T$较大时，它可能导致数值不稳定，\n",
    "例如可能导致梯度爆炸或梯度消失。\n",
    "因此，循环神经网络模型往往需要额外的方式来支持稳定训练。\n",
    "\n",
    "一般来说，当解决优化问题时，我们对模型参数采用更新步骤。\n",
    "假定在向量形式的$\\mathbf{x}$中，\n",
    "或者在小批量数据的负梯度$\\mathbf{g}$方向上。\n",
    "例如，使用$\\eta > 0$作为学习率时，在一次迭代中，\n",
    "我们将$\\mathbf{x}$更新为$\\mathbf{x} - \\eta \\mathbf{g}$。\n",
    "如果我们进一步假设目标函数$f$表现良好，\n",
    "即函数$f$在常数$L$下是*利普希茨连续的*（Lipschitz continuous）。\n",
    "也就是说，对于任意$\\mathbf{x}$和$\\mathbf{y}$我们有：\n",
    "\n",
    "$$|f(\\mathbf{x}) - f(\\mathbf{y})| \\leq L \\|\\mathbf{x} - \\mathbf{y}\\|.$$\n",
    "\n",
    "在这种情况下，我们可以安全地假设：\n",
    "如果我们通过$\\eta \\mathbf{g}$更新参数向量，则\n",
    "\n",
    "$$|f(\\mathbf{x}) - f(\\mathbf{x} - \\eta\\mathbf{g})| \\leq L \\eta\\|\\mathbf{g}\\|,$$\n",
    "\n",
    "这意味着我们不会观察到超过$L \\eta \\|\\mathbf{g}\\|$的变化。\n",
    "这既是坏事也是好事。\n",
    "坏的方面，它限制了取得进展的速度；\n",
    "好的方面，它限制了事情变糟的程度，尤其当我们朝着错误的方向前进时。\n",
    "\n",
    "有时梯度可能很大，从而优化算法可能无法收敛。\n",
    "我们可以通过降低$\\eta$的学习率来解决这个问题。\n",
    "但是如果我们很少得到大的梯度呢？\n",
    "在这种情况下，这种做法似乎毫无道理。\n",
    "一个流行的替代方案是通过将梯度$\\mathbf{g}$投影回给定半径\n",
    "（例如$\\theta$）的球来裁剪梯度$\\mathbf{g}$。\n",
    "如下式：\n",
    "\n",
    "(**$$\\mathbf{g} \\leftarrow \\min\\left(1, \\frac{\\theta}{\\|\\mathbf{g}\\|}\\right) \\mathbf{g}.$$**)\n",
    "\n",
    "通过这样做，我们知道梯度范数永远不会超过$\\theta$，\n",
    "并且更新后的梯度完全与$\\mathbf{g}$的原始方向对齐。\n",
    "它还有一个值得拥有的副作用，\n",
    "即限制任何给定的小批量数据（以及其中任何给定的样本）对参数向量的影响，\n",
    "这赋予了模型一定程度的稳定性。\n",
    "梯度裁剪提供了一个快速修复梯度爆炸的方法，\n",
    "虽然它并不能完全解决问题，但它是众多有效的技术之一。\n",
    "\n",
    "下面我们定义一个函数来裁剪模型的梯度，\n",
    "模型是从零开始实现的模型或由高级API构建的模型。\n",
    "我们在此计算了所有模型参数的梯度的范数。\n"
   ]
  },
  {
   "cell_type": "code",
   "execution_count": null,
   "id": "997a02ea",
   "metadata": {
    "execution": {
     "iopub.execute_input": "2023-08-18T07:18:07.651414Z",
     "iopub.status.busy": "2023-08-18T07:18:07.650745Z",
     "iopub.status.idle": "2023-08-18T07:18:07.657007Z",
     "shell.execute_reply": "2023-08-18T07:18:07.655964Z"
    },
    "origin_pos": 52,
    "tab": [
     "pytorch"
    ]
   },
   "outputs": [],
   "source": [
    "# 梯度裁切：这种裁剪方式称为 “按范数裁剪”（Clipping by Norm），是梯度裁剪中最常用的一种。\n",
    "# 这相当于把所有参数的梯度拼成一个超长向量，然后计算这个向量的模长。\n",
    "def grad_clipping(net, theta):  #@save\n",
    "    if isinstance(net, nn.Module):\n",
    "        params = [p for p in net.parameters() if p.requires_grad]# 列出所有需要计算梯度的参数\n",
    "    else:\n",
    "        params = net.params # 列出所有需要计算梯度的参数\n",
    "\n",
    "    # 计算梯度的 L2 范数（整体梯度的“长度”）\n",
    "    # 这相当于把所有参数的梯度拼成一个超长向量，然后计算这个向量的模长。\n",
    "    norm = torch.sqrt(sum(torch.sum((p.grad ** 2)) for p in params))\n",
    "    if norm > theta:\n",
    "        for param in params:\n",
    "            param.grad[:] *= theta / norm\n",
    "    # [:] 表示对张量内所有元素进行索引。\n",
    "    # *= 是原地操作符（in-place），它不会创建新张量，而是直接修改原始张量内部的数据。\n",
    "    \n",
    "    # 缩放因子是 theta / norm，这样缩放后，新的梯度范数正好等于 theta。\n",
    "    # 使用 param.grad[:] *= ... 是为了原地修改梯度，不影响梯度张量的内存地址（这对优化器很重要）。\n",
    "    # 假设：所有参数梯度拼起来的 L2 范数是 norm = 10.0，设定阈值 theta = 5.0\n",
    "    # 那么缩放因子 = 5.0 / 10.0 = 0.5，所有梯度乘以 0.5，最终范数变成 5.0。\n",
    "    # 这是全局裁剪：所有参数共享同一个缩放因子，保持梯度方向不变，只缩放大小。\n",
    "    # PyTorch 官方也提供了类似功能：torch.nn.utils.clip_grad_norm_，功能基本一致。"
   ]
  },
  {
   "cell_type": "markdown",
   "id": "726d638a",
   "metadata": {
    "origin_pos": 55
   },
   "source": [
    "## 训练\n",
    "\n",
    "在训练模型之前，让我们[**定义一个函数在一个迭代周期内训练模型**]。\n",
    "它与我们训练 :numref:`sec_softmax_scratch`模型的方式有三个不同之处。\n",
    "\n",
    "1. 序列数据的不同采样方法（随机采样和顺序分区）将导致隐状态初始化的差异。\n",
    "1. 我们在更新模型参数之前裁剪梯度。\n",
    "   这样的操作的目的是，即使训练过程中某个点上发生了梯度爆炸，也能保证模型不会发散。\n",
    "1. 我们用困惑度来评价模型。如 :numref:`subsec_perplexity`所述，\n",
    "   这样的度量确保了不同长度的序列具有可比性。\n",
    "\n",
    "具体来说，当使用顺序分区时，\n",
    "我们只在每个迭代周期的开始位置初始化隐状态。\n",
    "由于下一个小批量数据中的第$i$个子序列样本\n",
    "与当前第$i$个子序列样本相邻，\n",
    "因此当前小批量数据最后一个样本的隐状态，\n",
    "将用于初始化下一个小批量数据第一个样本的隐状态。\n",
    "这样，存储在隐状态中的序列的历史信息\n",
    "可以在一个迭代周期内流经相邻的子序列。\n",
    "然而，在任何一点隐状态的计算，\n",
    "都依赖于同一迭代周期中前面所有的小批量数据，\n",
    "这使得梯度计算变得复杂。\n",
    "为了降低计算量，在处理任何一个小批量数据之前，\n",
    "我们先分离梯度，使得隐状态的梯度计算总是限制在一个小批量数据的时间步内。\n",
    "\n",
    "当使用随机抽样时，因为每个样本都是在一个随机位置抽样的，\n",
    "因此需要为每个迭代周期重新初始化隐状态。\n",
    "与 :numref:`sec_softmax_scratch`中的\n",
    "`train_epoch_ch3`函数相同，\n",
    "`updater`是更新模型参数的常用函数。\n",
    "它既可以是从头开始实现的`d2l.sgd`函数，\n",
    "也可以是深度学习框架中内置的优化函数。\n"
   ]
  },
  {
   "cell_type": "code",
   "execution_count": null,
   "id": "4b5e10db",
   "metadata": {
    "execution": {
     "iopub.execute_input": "2023-08-18T07:18:07.661288Z",
     "iopub.status.busy": "2023-08-18T07:18:07.660940Z",
     "iopub.status.idle": "2023-08-18T07:18:07.671838Z",
     "shell.execute_reply": "2023-08-18T07:18:07.670625Z"
    },
    "origin_pos": 57,
    "tab": [
     "pytorch"
    ]
   },
   "outputs": [],
   "source": [
    "# 训练网络一个迭代周期，包含多个 batch,每个 batch 计算一次平均损失\n",
    "# 然后根据平均损失更新一次模型参数 w 和 b\n",
    "def train_epoch_ch8(net, train_iter, loss, updater, device, use_random_iter):\n",
    "    \"\"\"训练网络一个迭代周期（定义见第8章）\"\"\"\n",
    "    state, timer = None, d2l.Timer()\n",
    "    metric = d2l.Accumulator(2)  # 训练损失之和,词元数量\n",
    "    for X, Y in train_iter:\n",
    "        # PyTorch 内置的 GRU 模块 ：其隐藏状态 state 是一个单独的张量（形状为 [层数*方向数, 批量大小, 隐藏单元数]）， 不是元组\n",
    "        # PyTorch 内置的 LSTM 模块 ：其状态是一个包含两个张量的元组 (h, c)，分别表示隐藏状态和细胞状态\n",
    "        # 自定义 RNN 实现 ：通常也将状态设计为元组形式，以保持接口一致性\n",
    "        if state is None or use_random_iter:\n",
    "            # 在第一次迭代或使用随机抽样时初始化state\n",
    "            state = net.begin_state(batch_size=X.shape[0], device=device)\n",
    "        else:\n",
    "            if isinstance(net, nn.Module) and not isinstance(state, tuple):\n",
    "                # state对于nn.GRU是个张量\n",
    "                state.detach_()\n",
    "            else:\n",
    "                # 对于LSTM（状态是元组包含h和c）或自定义模型\n",
    "                # 遍历状态中的每个张量并执行梯度分离\n",
    "                for s in state:\n",
    "                    s.detach_()\n",
    "\n",
    "        # 在转置前，Y 的形状推测为 (批量大小, 时间步数)\n",
    "        y = Y.T.reshape(-1)  # 转置后，形状为 (时间步数, 批量大小)，然后展平为 (时间步数 * 批量大小,)\n",
    "        X, y = X.to(device), y.to(device)\n",
    "        y_hat, state = net(X, state)        # 1.前向传播：不改变 w 和 b\n",
    "        # 在没有计算 mean之前，loss 的返回值 shape 是 (时间步数 * 批量大小,)\n",
    "        # 计算 mean 之后，loss 的返回值 shape 是 (1,)，即l是一个标量\n",
    "        l = loss(y_hat, y.long()).mean()    # 2.计算损失：计算预测值 y_hat 与真实标签 y 之间的损失\n",
    "        if isinstance(updater, torch.optim.Optimizer):\n",
    "            updater.zero_grad()             # 3.梯度清零：将 w 和 b 的梯度设为 0\n",
    "            l.backward()                    # 4.反向传播：计算 w 和 b 的梯度(变化方向)，不改变 w 和 b\n",
    "            grad_clipping(net, 1)           # 5.梯度裁剪：将 w 和 b 的梯度裁剪到 [-1, 1] 之间\n",
    "            updater.step()                  # 6.更新参数: 根据梯度更新 w 和 b\n",
    "        else:\n",
    "            l.backward()\n",
    "            grad_clipping(net, 1)\n",
    "            # 因为已经调用了mean函数\n",
    "            # 我们已经对损失进行了平均化(调用了.mean())，损失值已经是一个标量\n",
    "            # 因此，此时传入 batch_size=1 是正确的选择，避免对已经平均化的损失进行二次缩放\n",
    "            updater(batch_size=1)\n",
    "        metric.add(l * y.numel(), y.numel())\n",
    "    return math.exp(metric[0] / metric[1]), metric[1] / timer.stop()\n",
    "    # 返回困惑度、速度（词元数量/秒）"
   ]
  },
  {
   "cell_type": "markdown",
   "id": "59eb7b57",
   "metadata": {
    "origin_pos": 60
   },
   "source": [
    "[**循环神经网络模型的训练函数既支持从零开始实现，\n",
    "也可以使用高级API来实现。**]\n"
   ]
  },
  {
   "cell_type": "code",
   "execution_count": null,
   "id": "3fe4738f",
   "metadata": {
    "execution": {
     "iopub.execute_input": "2023-08-18T07:18:07.676190Z",
     "iopub.status.busy": "2023-08-18T07:18:07.675912Z",
     "iopub.status.idle": "2023-08-18T07:18:07.684203Z",
     "shell.execute_reply": "2023-08-18T07:18:07.683026Z"
    },
    "origin_pos": 62,
    "tab": [
     "pytorch"
    ]
   },
   "outputs": [],
   "source": [
    "# 边训练 + 边预测\n",
    "def train_ch8(net, train_iter, vocab, lr, num_epochs, device, use_random_iter=False):\n",
    "    \"\"\"训练模型（定义见第8章）\"\"\"\n",
    "    loss = nn.CrossEntropyLoss()\n",
    "    animator = d2l.Animator(xlabel='epoch', ylabel='perplexity',\n",
    "                            legend=['train'], xlim=[10, num_epochs])\n",
    "    # 定义优化器\n",
    "    if isinstance(net, nn.Module):\n",
    "        updater = torch.optim.SGD(net.parameters(), lr)\n",
    "    else:\n",
    "        updater = lambda batch_size: d2l.sgd(net.params, lr, batch_size)\n",
    "    \n",
    "    # 定义预测函数，使用 predict_ch8 函数对给定前缀进行预测，生成长度为 50 的文本\n",
    "    predict = lambda prefix: predict_ch8(prefix, 50, net, vocab, device)\n",
    "    # 训练 + 预测\n",
    "    for epoch in range(num_epochs):\n",
    "        # ppl: 困惑度, speed: 速度（词元数量/秒）\n",
    "        ppl, speed = train_epoch_ch8(net, train_iter, loss, updater, device, use_random_iter)\n",
    "        if (epoch + 1) % 10 == 0: # 每训练 10 轮，打印一次预测结果\n",
    "            print(predict('time traveller'))\n",
    "            animator.add(epoch + 1, [ppl])\n",
    "        print(f'困惑度 {ppl:.1f}, {speed:.1f} 词元/秒 {str(device)}')\n",
    "\n",
    "    print(predict('time traveller'))\n",
    "    print(predict('traveller'))\n",
    "    print(predict('hello'))"
   ]
  },
  {
   "cell_type": "markdown",
   "id": "a744039a",
   "metadata": {
    "origin_pos": 65
   },
   "source": [
    "[**现在，我们训练循环神经网络模型。**]\n",
    "因为我们在数据集中只使用了10000个词元，\n",
    "所以模型需要更多的迭代周期来更好地收敛。\n"
   ]
  },
  {
   "cell_type": "code",
   "execution_count": null,
   "id": "60e0712a",
   "metadata": {
    "execution": {
     "iopub.execute_input": "2023-08-18T07:18:07.688319Z",
     "iopub.status.busy": "2023-08-18T07:18:07.688050Z",
     "iopub.status.idle": "2023-08-18T07:19:36.858051Z",
     "shell.execute_reply": "2023-08-18T07:19:36.857197Z"
    },
    "origin_pos": 66,
    "tab": [
     "pytorch"
    ]
   },
   "outputs": [],
   "source": [
    "# 初始化net\n",
    "net = RNNModelScratch(len(vocab), num_hiddens, d2l.try_gpu(), get_params, init_rnn_state, rnn)\n",
    "num_epochs, lr = 100, 1\n",
    "# 使用顺序迭代训练模型\n",
    "train_ch8(net, train_iter, vocab, lr, num_epochs, d2l.try_gpu())"
   ]
  },
  {
   "cell_type": "markdown",
   "id": "7f058da1",
   "metadata": {
    "origin_pos": 68
   },
   "source": [
    "[**最后，让我们检查一下使用随机抽样方法的结果。**]\n"
   ]
  },
  {
   "cell_type": "code",
   "execution_count": null,
   "id": "e672f727",
   "metadata": {
    "execution": {
     "iopub.execute_input": "2023-08-18T07:19:36.861442Z",
     "iopub.status.busy": "2023-08-18T07:19:36.861161Z",
     "iopub.status.idle": "2023-08-18T07:20:58.207471Z",
     "shell.execute_reply": "2023-08-18T07:20:58.206663Z"
    },
    "origin_pos": 69,
    "tab": [
     "pytorch"
    ]
   },
   "outputs": [],
   "source": [
    "# 初始化net\n",
    "net = RNNModelScratch(len(vocab), num_hiddens, d2l.try_gpu(), get_params, init_rnn_state, rnn)\n",
    "# 使用随机迭代训练模型\n",
    "num_epochs, lr = 100, 1\n",
    "train_ch8(net, train_iter, vocab, lr, num_epochs, d2l.try_gpu(), use_random_iter=True)\n"
   ]
  },
  {
   "cell_type": "markdown",
   "id": "11df14f3",
   "metadata": {
    "origin_pos": 72
   },
   "source": [
    "从零开始实现上述循环神经网络模型，\n",
    "虽然有指导意义，但是并不方便。\n",
    "在下一节中，我们将学习如何改进循环神经网络模型。\n",
    "例如，如何使其实现地更容易，且运行速度更快。\n",
    "\n",
    "## 小结\n",
    "\n",
    "* 我们可以训练一个基于循环神经网络的字符级语言模型，根据用户提供的文本的前缀生成后续文本。\n",
    "* 一个简单的循环神经网络语言模型包括输入编码、循环神经网络模型和输出生成。\n",
    "* 循环神经网络模型在训练以前需要初始化状态，不过随机抽样和顺序划分使用初始化方法不同。\n",
    "* 当使用顺序划分时，我们需要分离梯度以减少计算量。\n",
    "* 在进行任何预测之前，模型通过预热期进行自我更新（例如，获得比初始值更好的隐状态）。\n",
    "* 梯度裁剪可以防止梯度爆炸，但不能应对梯度消失。\n",
    "\n",
    "## 练习\n",
    "\n",
    "1. 尝试说明独热编码等价于为每个对象选择不同的嵌入表示。\n",
    "1. 通过调整超参数（如迭代周期数、隐藏单元数、小批量数据的时间步数、学习率等）来改善困惑度。\n",
    "    * 困惑度可以降到多少？\n",
    "    * 用可学习的嵌入表示替换独热编码，是否会带来更好的表现？\n",
    "    * 如果用H.G.Wells的其他书作为数据集时效果如何，\n",
    "      例如[*世界大战*](http://www.gutenberg.org/ebooks/36)？\n",
    "1. 修改预测函数，例如使用采样，而不是选择最有可能的下一个字符。\n",
    "    * 会发生什么？\n",
    "    * 调整模型使之偏向更可能的输出，例如，当$\\alpha > 1$，从$q(x_t \\mid x_{t-1}, \\ldots, x_1) \\propto P(x_t \\mid x_{t-1}, \\ldots, x_1)^\\alpha$中采样。\n",
    "1. 在不裁剪梯度的情况下运行本节中的代码会发生什么？\n",
    "1. 更改顺序划分，使其不会从计算图中分离隐状态。运行时间会有变化吗？困惑度呢？\n",
    "1. 用ReLU替换本节中使用的激活函数，并重复本节中的实验。我们还需要梯度裁剪吗？为什么？\n"
   ]
  },
  {
   "cell_type": "markdown",
   "id": "c810dbc6",
   "metadata": {
    "origin_pos": 74,
    "tab": [
     "pytorch"
    ]
   },
   "source": [
    "[Discussions](https://discuss.d2l.ai/t/2103)\n"
   ]
  }
 ],
 "metadata": {
  "kernelspec": {
   "display_name": "py39",
   "language": "python",
   "name": "python3"
  },
  "language_info": {
   "codemirror_mode": {
    "name": "ipython",
    "version": 3
   },
   "file_extension": ".py",
   "mimetype": "text/x-python",
   "name": "python",
   "nbconvert_exporter": "python",
   "pygments_lexer": "ipython3",
   "version": "3.9.0"
  },
  "required_libs": []
 },
 "nbformat": 4,
 "nbformat_minor": 5
}
